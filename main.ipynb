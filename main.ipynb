{
 "cells": [
  {
   "cell_type": "markdown",
   "metadata": {},
   "source": [
    "### Load model and data"
   ]
  },
  {
   "cell_type": "code",
   "execution_count": null,
   "metadata": {},
   "outputs": [],
   "source": [
    "import pickle\n",
    "import pandas as pd\n",
    "\n",
    "filename = \"modelFile\"\n",
    "model = pickle.load(open(filename, 'rb'))"
   ]
  },
  {
   "cell_type": "code",
   "execution_count": 10,
   "metadata": {},
   "outputs": [],
   "source": [
    "dataset = pd.read_csv(\"processed_train.csv\")"
   ]
  },
  {
   "cell_type": "markdown",
   "metadata": {},
   "source": [
    "### Prediction based on partial data"
   ]
  },
  {
   "cell_type": "markdown",
   "metadata": {},
   "source": [
    "#### Prediction method"
   ]
  },
  {
   "cell_type": "code",
   "execution_count": 16,
   "metadata": {},
   "outputs": [],
   "source": [
    "def pred(sample):\n",
    "    bet = \"\"\n",
    "    \n",
    "    home_team, away_team = sample[2], sample[3]\n",
    "    \n",
    "    # get the average of each team's past stats\n",
    "    home_team_history, away_team_history = dataset[dataset[\"home_team\"] == home_team].mean(), dataset[dataset[\"away_team\"] == away_team].mean()\n",
    "    \n",
    "    # combine all info to creat X\n",
    "    X = [sample[0], home_team, away_team, home_team_history[\"half_time_home_goals\"], away_team_history[\"half_time_away_goals\"],\n",
    "        sample[4], home_team_history[\"home_shots\"], away_team_history[\"away_shots\"], home_team_history[\"home_shots_on_target\"], away_team_history[\"away_shots_on_target\"],\n",
    "        home_team_history[\"home_fouls\"], away_team_history[\"away_fouls\"], home_team_history[\"home_corners\"], away_team_history[\"away_corners\"], \n",
    "        home_team_history[\"home_yellow_cards\"], away_team_history[\"away_yellow_cards\"], \n",
    "        home_team_history[\"home_red_cards\"], away_team_history[\"away_red_cards\"], sample[5], sample[6], sample[7]]\n",
    "    \n",
    "    y_pred = model.predict([X])\n",
    "    \n",
    "    if y_pred == -1:\n",
    "        bet = \"AWAY\"\n",
    "    elif y_pred == 0:\n",
    "        bet = \"DRAW\"\n",
    "    elif y_pred == 1:\n",
    "        bet = \"HOME\"\n",
    "        \n",
    "    return bet"
   ]
  },
  {
   "cell_type": "markdown",
   "metadata": {},
   "source": [
    "#### Testing using a simple partial sample"
   ]
  },
  {
   "cell_type": "code",
   "execution_count": 17,
   "metadata": {},
   "outputs": [
    {
     "name": "stdout",
     "output_type": "stream",
     "text": [
      "DRAW\n"
     ]
    }
   ],
   "source": [
    "sample = [0, -1, 152, 426, 1, 3.627689584601, 3.577721408504, 2.198599748243]\n",
    "\n",
    "print(pred(sample))"
   ]
  },
  {
   "cell_type": "code",
   "execution_count": null,
   "metadata": {},
   "outputs": [],
   "source": []
  }
 ],
 "metadata": {
  "kernelspec": {
   "display_name": "Python 3",
   "language": "python",
   "name": "python3"
  },
  "language_info": {
   "codemirror_mode": {
    "name": "ipython",
    "version": 3
   },
   "file_extension": ".py",
   "mimetype": "text/x-python",
   "name": "python",
   "nbconvert_exporter": "python",
   "pygments_lexer": "ipython3",
   "version": "3.8.5"
  }
 },
 "nbformat": 4,
 "nbformat_minor": 4
}
